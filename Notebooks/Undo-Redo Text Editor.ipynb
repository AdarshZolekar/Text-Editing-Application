{
 "cells": [
  {
   "cell_type": "markdown",
   "metadata": {},
   "source": [
    "# Undo-Redo Text Editor\n",
    "\n",
    "This notebook contains the `StackExample` class implementation from **editor.py**, along with a short demo."
   ]
  },
  {
   "cell_type": "code",
   "execution_count": null,
   "metadata": {},
   "outputs": [],
   "source": [
    "from typing import List\n",
    "\n",
    "class StackExample:\n",
    "    def __init__(self) -> None:\n",
    "        self.undo: List[str] = []\n",
    "        self.redo: List[str] = []\n",
    "        self.state: str = \"\"\n",
    "\n",
    "    def make_change(self, text: str) -> None:\n",
    "        \"\"\"Apply a new state. Clears redo stack.\"\"\"\n",
    "        self.undo.append(self.state)\n",
    "        self.state = text\n",
    "        self.redo.clear()\n",
    "\n",
    "    def undo_action(self) -> bool:\n",
    "        \"\"\"Undo last change. Returns True if successful.\"\"\"\n",
    "        if self.undo:\n",
    "            self.redo.append(self.state)\n",
    "            self.state = self.undo.pop()\n",
    "            return True\n",
    "        return False\n",
    "\n",
    "    def redo_action(self) -> bool:\n",
    "        \"\"\"Redo last undone change. Returns True if successful.\"\"\"\n",
    "        if self.redo:\n",
    "            self.undo.append(self.state)\n",
    "            self.state = self.redo.pop()\n",
    "            return True\n",
    "        return False\n",
    "\n",
    "    def display(self) -> str:\n",
    "        \"\"\"Return current document state.\"\"\"\n",
    "        return self.state"
   ]
  },
  {
   "cell_type": "code",
   "execution_count": null,
   "metadata": {},
   "outputs": [],
   "source": [
    "# Demo usage\n",
    "editor = StackExample()\n",
    "editor.make_change(\"Hello\")\n",
    "editor.make_change(\"Hello, world\")\n",
    "print(\"State after changes:\", editor.display())\n",
    "\n",
    "editor.undo_action()\n",
    "print(\"After undo:\", editor.display())\n",
    "\n",
    "editor.redo_action()\n",
    "print(\"After redo:\", editor.display())"
   ]
  }
 ],
 "metadata": {
  "kernelspec": {
   "display_name": "Python 3",
   "language": "python",
   "name": "python3"
  },
  "language_info": {
   "name": "python",
   "version": "3.11"
  }
 },
 "nbformat": 4,
 "nbformat_minor": 5
}
